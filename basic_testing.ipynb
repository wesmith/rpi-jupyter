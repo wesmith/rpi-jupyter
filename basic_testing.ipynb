{
 "cells": [
  {
   "cell_type": "code",
   "execution_count": null,
   "id": "ffcac8ce-0885-4e4e-ba02-1cce7c751d04",
   "metadata": {},
   "outputs": [],
   "source": [
    "import vcgencmd as vc\n",
    "import RPi.GPIO as gpio"
   ]
  },
  {
   "cell_type": "code",
   "execution_count": null,
   "id": "60cb6140-a3e3-48b8-9fec-9bfa6cb4fd6c",
   "metadata": {},
   "outputs": [],
   "source": [
    "# see https://pypi.org/project/vcgencmd/ for usage"
   ]
  },
  {
   "cell_type": "code",
   "execution_count": null,
   "id": "09071835-3666-44da-8423-79f6e375313d",
   "metadata": {},
   "outputs": [],
   "source": [
    "vccmd = vc.Vcgencmd()"
   ]
  },
  {
   "cell_type": "code",
   "execution_count": null,
   "id": "59845be1-444a-47d7-9366-5eb0cd6a7806",
   "metadata": {},
   "outputs": [],
   "source": [
    "vccmd.version()"
   ]
  },
  {
   "cell_type": "code",
   "execution_count": null,
   "id": "64d1bc5c-5fb5-45d3-9317-57c5fb59eb00",
   "metadata": {},
   "outputs": [],
   "source": [
    "vccmd.measure_temp()"
   ]
  },
  {
   "cell_type": "code",
   "execution_count": null,
   "id": "d4f0cf2e-b5a9-45ec-a5d8-d3178cdabd65",
   "metadata": {},
   "outputs": [],
   "source": [
    "vccmd.measure_clock('arm')"
   ]
  },
  {
   "cell_type": "code",
   "execution_count": null,
   "id": "d59e0452-95be-4401-b429-b6425be1b8d1",
   "metadata": {},
   "outputs": [],
   "source": [
    "vccmd.measure_clock('core')"
   ]
  },
  {
   "cell_type": "code",
   "execution_count": null,
   "id": "343790ef-5391-41a6-9de9-a781835382f9",
   "metadata": {},
   "outputs": [],
   "source": [
    "vccmd.get_sources?"
   ]
  },
  {
   "cell_type": "code",
   "execution_count": null,
   "id": "e3fb47ba-07f2-429f-bfb3-fbcba7b93fb0",
   "metadata": {},
   "outputs": [],
   "source": [
    "#get_sources(\"mem\") will return [\"arm\", \"gpu\"] which are the sources/arguments for \n",
    "#get_mem(source) that returns the memory of the source passed as argument to it.\n",
    "# the below dict from /usr/local/lib/python3.7/dist-packages/vcgencmd/vcgencmd.py\n",
    "sources = {\n",
    "  \"clock\": [\"arm\", \"core\",\"isp\", \"v3d\", \"uart\", \"pwm\", \"emmc\", \"pixel\", \n",
    "            \"vec\", \"hdmi\", \"dpi\"], # deleted H264: gives error\n",
    "  \"volts\": [\"core\", \"sdram_c\", \"sdram_i\", \"sdram_p\"],\n",
    "  \"mem\":   [\"arm\", \"gpu\"],\n",
    "  \"codec\": [\"agif\", \"flac\", \"h263\", \"h264\", \"mjpa\", \"mjpb\", \"mjpg\", \"mpg2\", \n",
    "            \"mpg4\", \"mvc0\", \"pcm\", \"thra\", \"vorb\", \"vp6\", \"vp8\", \"wmv9\", \"wvc1\"],\n",
    "  \"display_id\": [0, 1, 2, 3, 7]\n",
    "  }"
   ]
  },
  {
   "cell_type": "code",
   "execution_count": null,
   "id": "9141a0f6-ecd4-479a-b689-5b65d6b31a40",
   "metadata": {},
   "outputs": [],
   "source": [
    "dd = vccmd.get_sources('mem')\n",
    "for k in dd:\n",
    "    print(k, vccmd.get_mem(k))"
   ]
  },
  {
   "cell_type": "code",
   "execution_count": null,
   "id": "56206409-7d19-4e89-8a26-b53b54bf1cdb",
   "metadata": {},
   "outputs": [],
   "source": [
    "dd = vccmd.get_sources('clock')\n",
    "for k in dd:\n",
    "    if (k != 'H264'): print(k, vccmd.measure_clock(k))  # H264 produces an error"
   ]
  },
  {
   "cell_type": "code",
   "execution_count": null,
   "id": "aba1ee50-d7b0-4a55-8592-3fade124c7dd",
   "metadata": {},
   "outputs": [],
   "source": [
    "dd = vccmd.get_sources('volts')\n",
    "for k in dd:\n",
    "    print(k, vccmd.measure_volts(k))"
   ]
  },
  {
   "cell_type": "code",
   "execution_count": null,
   "id": "d9889ab9-ce4e-4473-80ad-0f9117541ef3",
   "metadata": {},
   "outputs": [],
   "source": [
    "dd = vccmd.get_sources('codec')\n",
    "for k in dd:\n",
    "    print(k, vccmd.codec_enabled(k))"
   ]
  },
  {
   "cell_type": "code",
   "execution_count": null,
   "id": "5acf3922-dbae-400e-9d26-521027876b02",
   "metadata": {},
   "outputs": [],
   "source": [
    "dd = vccmd.get_sources('display_id')\n",
    "for k in dd:\n",
    "    print(k, vccmd.display_power_state(k))"
   ]
  },
  {
   "cell_type": "code",
   "execution_count": null,
   "id": "ebca5d57-82ec-41e4-b08c-65f0e8e39d7d",
   "metadata": {},
   "outputs": [],
   "source": [
    "vccmd.get_lcd_info()"
   ]
  },
  {
   "cell_type": "code",
   "execution_count": null,
   "id": "6d9cd8f2-384e-4ab7-8f4f-7f2f3c9aaddd",
   "metadata": {},
   "outputs": [],
   "source": [
    "vccmd.dispmanx_list()"
   ]
  },
  {
   "cell_type": "code",
   "execution_count": null,
   "id": "24a31200-7580-4dd9-9260-3205fac5568e",
   "metadata": {},
   "outputs": [],
   "source": [
    "vccmd.otp_dump()"
   ]
  },
  {
   "cell_type": "code",
   "execution_count": null,
   "id": "799f8c93-512c-49c9-ac2c-bc402a99b5de",
   "metadata": {},
   "outputs": [],
   "source": []
  }
 ],
 "metadata": {
  "kernelspec": {
   "display_name": "Python 3",
   "language": "python",
   "name": "python3"
  },
  "language_info": {
   "codemirror_mode": {
    "name": "ipython",
    "version": 3
   },
   "file_extension": ".py",
   "mimetype": "text/x-python",
   "name": "python",
   "nbconvert_exporter": "python",
   "pygments_lexer": "ipython3",
   "version": "3.7.3"
  }
 },
 "nbformat": 4,
 "nbformat_minor": 5
}
