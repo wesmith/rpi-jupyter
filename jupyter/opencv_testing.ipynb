{
 "cells": [
  {
   "cell_type": "markdown",
   "id": "bdfd9d0d-e65e-4309-8173-097b1042bd9f",
   "metadata": {},
   "source": [
    "## opencv_testing.ipynb\n",
    "## WESmith 1/4/22"
   ]
  },
  {
   "cell_type": "markdown",
   "id": "8eac621f-d562-4fd9-adf7-8fa2cd84e6de",
   "metadata": {},
   "source": [
    "### NOTE: this jupyter notebook is opened inside a venv, but the sys.path isn't automatically getting the venv: need to revisit this\n",
    "### NOTE 2: because of these issues, venv's won't be used on the RPi4: not really necessary, can always create a new SD card for each project\n",
    "### NOTE 3: 1/5/22 it magically started working from the venv: sys.path now getting the venv: not sure what changed"
   ]
  },
  {
   "cell_type": "code",
   "execution_count": null,
   "id": "b44d8f68-5566-4c9b-acbd-f8c0c9ae1842",
   "metadata": {},
   "outputs": [],
   "source": [
    "import cv2\n",
    "from imutils.video import VideoStream\n",
    "from imutils import resize\n",
    "import os, sys"
   ]
  },
  {
   "cell_type": "code",
   "execution_count": null,
   "id": "d7698c01-bbae-4522-8b98-4f76264fb5b9",
   "metadata": {},
   "outputs": [],
   "source": [
    "cv2.__file__"
   ]
  },
  {
   "cell_type": "code",
   "execution_count": null,
   "id": "80b97283-e53c-4ffb-a1bf-1aad47e2a2aa",
   "metadata": {},
   "outputs": [],
   "source": [
    "os.path.realpath"
   ]
  },
  {
   "cell_type": "code",
   "execution_count": null,
   "id": "c6fcff54-0de5-42f2-8bbb-12ebd943d2c8",
   "metadata": {},
   "outputs": [],
   "source": [
    "os.path.abspath('') \n",
    "# to get location of the notebook, independent of where the \n",
    "# notebook was run from (though I didn't test it here); to do\n",
    "# this in a python script, see below (that code was verified)"
   ]
  },
  {
   "cell_type": "code",
   "execution_count": null,
   "id": "6b6a3da8-f1fa-4e22-a7c9-03b3c8347c15",
   "metadata": {},
   "outputs": [],
   "source": [
    "os.path.realpath('__file__') \n",
    "# note: jupyter doesn't have __file__ without the quotes, which\n",
    "# python scripts do have;\n",
    "# in a python script run os.path.realpath(__file__) to get\n",
    "# where the actual script is, independent of where it was run from"
   ]
  },
  {
   "cell_type": "code",
   "execution_count": null,
   "id": "68a83a8f-16c7-4781-a743-12985de761c0",
   "metadata": {},
   "outputs": [],
   "source": [
    "abs_app_dir_path = os.path.dirname(os.path.realpath('__file__'))\n",
    "abs_app_dir_path"
   ]
  },
  {
   "cell_type": "code",
   "execution_count": null,
   "id": "6f0a1a1f-d7a9-48aa-aead-174e2b8a7630",
   "metadata": {},
   "outputs": [],
   "source": [
    "os.path.dirname(os.path.realpath('.'))"
   ]
  },
  {
   "cell_type": "code",
   "execution_count": null,
   "id": "b371c94e-9212-45cf-95fc-efb6ec218686",
   "metadata": {},
   "outputs": [],
   "source": [
    "a = '/ddd'\n",
    "b = 'eee'\n",
    "os.path.join(a, b, 'test')"
   ]
  },
  {
   "cell_type": "code",
   "execution_count": null,
   "id": "c519b41b-0383-4ef0-8512-d1dd78286804",
   "metadata": {},
   "outputs": [],
   "source": [
    "cv2.cvtColor?"
   ]
  },
  {
   "cell_type": "code",
   "execution_count": null,
   "id": "2db5796d-5b8f-46ff-9211-0f0ec6d147e7",
   "metadata": {},
   "outputs": [],
   "source": [
    "import imutils\n",
    "imutils.__file__"
   ]
  },
  {
   "cell_type": "code",
   "execution_count": null,
   "id": "42abf077-66cf-478c-8e7c-ea938093a699",
   "metadata": {},
   "outputs": [],
   "source": [
    "#import sys\n",
    "#sys.path"
   ]
  },
  {
   "cell_type": "code",
   "execution_count": null,
   "id": "5756e7c9-416f-41e3-8ae1-92581cf57f70",
   "metadata": {},
   "outputs": [],
   "source": [
    "vs = VideoStream(src=0).start()"
   ]
  },
  {
   "cell_type": "code",
   "execution_count": null,
   "id": "591de743-3848-4448-8a5b-2d4f80639a78",
   "metadata": {},
   "outputs": [],
   "source": [
    "img = vs.read()"
   ]
  },
  {
   "cell_type": "code",
   "execution_count": null,
   "id": "3f47bb1d-4bfd-4abf-a623-b0a04099280b",
   "metadata": {},
   "outputs": [],
   "source": [
    "cv2.imshow('image', img)"
   ]
  },
  {
   "cell_type": "code",
   "execution_count": null,
   "id": "7dcffb37-1301-4084-b71b-0735c7394016",
   "metadata": {},
   "outputs": [],
   "source": [
    "key = cv2.waitKey(0)"
   ]
  },
  {
   "cell_type": "code",
   "execution_count": null,
   "id": "5dde4b13-3c35-44ea-953f-3b2def446457",
   "metadata": {},
   "outputs": [],
   "source": [
    "cv2.destroyAllWindows()"
   ]
  },
  {
   "cell_type": "code",
   "execution_count": null,
   "id": "2e2c94e4-0e0e-4ed5-9a1d-fa233c37b3b4",
   "metadata": {},
   "outputs": [],
   "source": [
    "x"
   ]
  },
  {
   "cell_type": "code",
   "execution_count": null,
   "id": "c74a3b32-f683-4b21-a447-7e8d558400fc",
   "metadata": {},
   "outputs": [],
   "source": []
  }
 ],
 "metadata": {
  "kernelspec": {
   "display_name": "Python 3 (ipykernel)",
   "language": "python",
   "name": "python3"
  },
  "language_info": {
   "codemirror_mode": {
    "name": "ipython",
    "version": 3
   },
   "file_extension": ".py",
   "mimetype": "text/x-python",
   "name": "python",
   "nbconvert_exporter": "python",
   "pygments_lexer": "ipython3",
   "version": "3.7.3"
  }
 },
 "nbformat": 4,
 "nbformat_minor": 5
}
