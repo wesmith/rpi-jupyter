{
 "cells": [
  {
   "cell_type": "code",
   "execution_count": 1,
   "id": "ffcac8ce-0885-4e4e-ba02-1cce7c751d04",
   "metadata": {},
   "outputs": [],
   "source": [
    "import os, sys\n",
    "import vcgencmd as vc\n",
    "import RPi.GPIO as gpio\n",
    "from bottle   import Bottle, route, run, template\n",
    "from datetime import datetime"
   ]
  },
  {
   "cell_type": "code",
   "execution_count": 2,
   "id": "60cb6140-a3e3-48b8-9fec-9bfa6cb4fd6c",
   "metadata": {},
   "outputs": [],
   "source": [
    "# see https://pypi.org/project/vcgencmd/ for usage"
   ]
  },
  {
   "cell_type": "code",
   "execution_count": 3,
   "id": "4deebb5a-0ec3-4064-bef3-39a8f94f57d4",
   "metadata": {},
   "outputs": [
    {
     "data": {
      "text/plain": [
       "'/usr/lib/python3/dist-packages'"
      ]
     },
     "execution_count": 3,
     "metadata": {},
     "output_type": "execute_result"
    }
   ],
   "source": [
    "dirname = os.path.dirname(sys.argv[0])\n",
    "dirname"
   ]
  },
  {
   "cell_type": "code",
   "execution_count": 4,
   "id": "b35146aa-db4e-4cb2-b420-11e122b686c9",
   "metadata": {},
   "outputs": [
    {
     "data": {
      "text/plain": [
       "['/usr/lib/python3/dist-packages/ipykernel_launcher.py',\n",
       " '-f',\n",
       " '/home/pi/.local/share/jupyter/runtime/kernel-4b7301ce-54f6-45c3-960e-bcac493c3571.json']"
      ]
     },
     "execution_count": 4,
     "metadata": {},
     "output_type": "execute_result"
    }
   ],
   "source": [
    "sys.argv"
   ]
  },
  {
   "cell_type": "code",
   "execution_count": 5,
   "id": "22f9fff0-77ce-43a0-aaed-619998c8a6f3",
   "metadata": {},
   "outputs": [
    {
     "data": {
      "text/plain": [
       "'/home/pi/Devel/raspberry_pi/rpi-jupyter/jupyter'"
      ]
     },
     "execution_count": 5,
     "metadata": {},
     "output_type": "execute_result"
    }
   ],
   "source": [
    "dd = os.popen('pwd')\n",
    "#dirname = os.path.dirname(dd.read())\n",
    "pwd = dd.read()[:-1]\n",
    "pwd"
   ]
  },
  {
   "cell_type": "code",
   "execution_count": 6,
   "id": "09071835-3666-44da-8423-79f6e375313d",
   "metadata": {},
   "outputs": [],
   "source": [
    "vccmd = vc.Vcgencmd()"
   ]
  },
  {
   "cell_type": "code",
   "execution_count": 7,
   "id": "59845be1-444a-47d7-9366-5eb0cd6a7806",
   "metadata": {},
   "outputs": [
    {
     "data": {
      "text/plain": [
       "'Dec  1 2021 15:02:46 \\nCopyright (c) 2012 Broadcom\\nversion 71bd3109023a0c8575585ba87cbb374d2eeb038f (clean) (release) (start_x)\\n'"
      ]
     },
     "execution_count": 7,
     "metadata": {},
     "output_type": "execute_result"
    }
   ],
   "source": [
    "vccmd.version()"
   ]
  },
  {
   "cell_type": "code",
   "execution_count": 54,
   "id": "64d1bc5c-5fb5-45d3-9317-57c5fb59eb00",
   "metadata": {},
   "outputs": [],
   "source": [
    "def get_temp():\n",
    "    temp_C = vccmd.measure_temp()\n",
    "    temp_F = temp_C * 9./5. +32.0\n",
    "    return \"CPU TEMP: {:0.2f} deg C, {:0.2f} deg F\".\\\n",
    "            format(temp_C, temp_F)\n",
    "\n",
    "def get_time():\n",
    "    return \"TIME: {:%Y-%m-%d %H:%M:%S}\".format(datetime.now())\n",
    "\n",
    "def get_load_average():\n",
    "    one, five, fifteen = os.getloadavg()\n",
    "    return \"PROCESS AVERAGES: {} (1m), {} (5m), {} (15m)\".\\\n",
    "            format(one, five, fifteen)\n",
    "\n",
    "def get_uptime():\n",
    "    dd = os.popen('/usr/bin/uptime -p')\n",
    "    return \"UPTIME: {}\".format(dd.read()[3:-1])\n",
    "\n",
    "def get_freq(obj='arm'):\n",
    "    # obj = arm, core\n",
    "    return \"FREQ of '{}': {:0.3f} GHz\".\\\n",
    "        format(obj, vccmd.measure_clock(obj)/1.e9)\n",
    "'''\n",
    "def get_processes(num=5): # this version returns a text block\n",
    "    # see unix.stackexchange.com #13968 : sorting on cpu%\n",
    "    # top result is the header, so get n + 1\n",
    "    cmd = '/bin/ps aux --sort=-pcpu | head -n {}'.format(num + 1)\n",
    "    dd  = os.popen(cmd)\n",
    "    txt = dd.read()\n",
    "    out = [k.split() for k in txt.split('\\n')]\n",
    "    fields = [0, 1, 2, 3, 8, 9, 10] # limit the output fields\n",
    "    txt = ''\n",
    "    for k in fields:\n",
    "        txt += out[0][k] + '\\t'\n",
    "    for j in range(1, len(out) - 1):\n",
    "        txt += '\\n'\n",
    "        for k in fields: # split affects only the last field\n",
    "            txt += out[j][k].split('/')[-1] + '\\t'\n",
    "    return txt\n",
    "'''\n",
    "def get_processes(num=5): # this version returns a list of lists\n",
    "    # see unix.stackexchange.com #13968 : sorting on cpu%\n",
    "    # top result is the header, so get n + 1\n",
    "    cmd = '/bin/ps aux --sort=-pcpu | head -n {}'.format(num + 1)\n",
    "    dd  = os.popen(cmd)\n",
    "    txt = dd.read()\n",
    "    # [:-1] gets rid of empty list after last \\n\n",
    "    out = [k.split() for k in txt.split('\\n')][:-1]\n",
    "    fields = [0, 1, 2, 3, 8, 9, 10] # limit the output fields\n",
    "    short = []\n",
    "    for j in range(len(out)): # split affects only the last field\n",
    "        short.append([out[j][k].split('/')[-1] for k in fields])\n",
    "    return short"
   ]
  },
  {
   "cell_type": "code",
   "execution_count": 55,
   "id": "b16ccd97-ad71-4e27-8577-0f0a352076ad",
   "metadata": {},
   "outputs": [
    {
     "data": {
      "text/plain": [
       "['CPU TEMP: 42.80 deg C, 109.04 deg F',\n",
       " 'TIME: 2021-12-24 18:13:23',\n",
       " 'PROCESS AVERAGES: 0.73 (1m), 0.58 (5m), 0.61 (15m)',\n",
       " 'UPTIME: 3 days, 1 hour, 16 minutes',\n",
       " \"FREQ of 'arm': 1.500 GHz\"]"
      ]
     },
     "execution_count": 55,
     "metadata": {},
     "output_type": "execute_result"
    }
   ],
   "source": [
    "fns = [get_temp, get_time, get_load_average, get_uptime, get_freq]\n",
    "dd1 = [k() for k in fns]\n",
    "dd1"
   ]
  },
  {
   "cell_type": "code",
   "execution_count": 57,
   "id": "7f70288f-1d8b-4b78-bc06-79af7f6c5079",
   "metadata": {},
   "outputs": [
    {
     "data": {
      "text/plain": [
       "[['USER', 'PID', '%CPU', '%MEM', 'START', 'TIME', 'COMMAND'],\n",
       " ['pi', '1274', '4.4', '2.5', 'Dec22', '126:47', 'chromium-browser-v7'],\n",
       " ['pi', '16687', '2.8', '0.2', 'Dec22', '90:08', 'lxtask'],\n",
       " ['root', '681', '2.2', '1.2', 'Dec21', '100:27', 'Xorg'],\n",
       " ['pi', '27952', '1.5', '1.8', 'Dec22', '49:15', 'chromium-browser-v7']]"
      ]
     },
     "execution_count": 57,
     "metadata": {},
     "output_type": "execute_result"
    }
   ],
   "source": [
    "dd2 = get_processes(4)\n",
    "dd2"
   ]
  },
  {
   "cell_type": "code",
   "execution_count": null,
   "id": "343790ef-5391-41a6-9de9-a781835382f9",
   "metadata": {},
   "outputs": [],
   "source": [
    "vccmd.get_sources?"
   ]
  },
  {
   "cell_type": "code",
   "execution_count": null,
   "id": "e3fb47ba-07f2-429f-bfb3-fbcba7b93fb0",
   "metadata": {},
   "outputs": [],
   "source": [
    "#get_sources(\"mem\") will return [\"arm\", \"gpu\"] which are the sources/arguments for \n",
    "#get_mem(source) that returns the memory of the source passed as argument to it.\n",
    "# the below dict from /usr/local/lib/python3.7/dist-packages/vcgencmd/vcgencmd.py\n",
    "sources = {\n",
    "  \"clock\": [\"arm\", \"core\",\"isp\", \"v3d\", \"uart\", \"pwm\", \"emmc\", \"pixel\", \n",
    "            \"vec\", \"hdmi\", \"dpi\"], # deleted H264: gives error\n",
    "  \"volts\": [\"core\", \"sdram_c\", \"sdram_i\", \"sdram_p\"],\n",
    "  \"mem\":   [\"arm\", \"gpu\"],\n",
    "  \"codec\": [\"agif\", \"flac\", \"h263\", \"h264\", \"mjpa\", \"mjpb\", \"mjpg\", \"mpg2\", \n",
    "            \"mpg4\", \"mvc0\", \"pcm\", \"thra\", \"vorb\", \"vp6\", \"vp8\", \"wmv9\", \"wvc1\"],\n",
    "  \"display_id\": [0, 1, 2, 3, 7]\n",
    "  }"
   ]
  },
  {
   "cell_type": "code",
   "execution_count": null,
   "id": "9141a0f6-ecd4-479a-b689-5b65d6b31a40",
   "metadata": {},
   "outputs": [],
   "source": [
    "dd = vccmd.get_sources('mem')\n",
    "for k in dd:\n",
    "    print(k, vccmd.get_mem(k))"
   ]
  },
  {
   "cell_type": "code",
   "execution_count": null,
   "id": "56206409-7d19-4e89-8a26-b53b54bf1cdb",
   "metadata": {},
   "outputs": [],
   "source": [
    "dd = vccmd.get_sources('clock')\n",
    "for k in dd:\n",
    "    # H264 produces an error\n",
    "    if (k != 'H264'): print(k, vccmd.measure_clock(k))"
   ]
  },
  {
   "cell_type": "code",
   "execution_count": null,
   "id": "aba1ee50-d7b0-4a55-8592-3fade124c7dd",
   "metadata": {},
   "outputs": [],
   "source": [
    "dd = vccmd.get_sources('volts')\n",
    "for k in dd:\n",
    "    print(k, vccmd.measure_volts(k))"
   ]
  },
  {
   "cell_type": "code",
   "execution_count": null,
   "id": "d9889ab9-ce4e-4473-80ad-0f9117541ef3",
   "metadata": {},
   "outputs": [],
   "source": [
    "dd = vccmd.get_sources('codec')\n",
    "for k in dd:\n",
    "    print(k, vccmd.codec_enabled(k))"
   ]
  },
  {
   "cell_type": "code",
   "execution_count": null,
   "id": "5acf3922-dbae-400e-9d26-521027876b02",
   "metadata": {},
   "outputs": [],
   "source": [
    "dd = vccmd.get_sources('display_id')\n",
    "for k in dd:\n",
    "    print(k, vccmd.display_power_state(k))"
   ]
  },
  {
   "cell_type": "code",
   "execution_count": null,
   "id": "ebca5d57-82ec-41e4-b08c-65f0e8e39d7d",
   "metadata": {},
   "outputs": [],
   "source": [
    "vccmd.get_lcd_info()"
   ]
  },
  {
   "cell_type": "code",
   "execution_count": null,
   "id": "6d9cd8f2-384e-4ab7-8f4f-7f2f3c9aaddd",
   "metadata": {},
   "outputs": [],
   "source": [
    "vccmd.dispmanx_list()"
   ]
  },
  {
   "cell_type": "code",
   "execution_count": null,
   "id": "24a31200-7580-4dd9-9260-3205fac5568e",
   "metadata": {},
   "outputs": [],
   "source": [
    "#vccmd.otp_dump()"
   ]
  },
  {
   "cell_type": "code",
   "execution_count": null,
   "id": "799f8c93-512c-49c9-ac2c-bc402a99b5de",
   "metadata": {},
   "outputs": [],
   "source": [
    "#dev = os.popen('bin/ps -a', 'r', 1)\n",
    "dev = os.popen('/opt/vc/bin/vcgencmd measure_temp')  # this works\n",
    "dev.read()\n",
    "#dev.close()"
   ]
  },
  {
   "cell_type": "code",
   "execution_count": null,
   "id": "5b21e942-3cd6-4afe-b0fa-160e555b14f4",
   "metadata": {},
   "outputs": [],
   "source": [
    "os.getlogin()"
   ]
  },
  {
   "cell_type": "code",
   "execution_count": null,
   "id": "a39f2cd3-6d3b-4a66-bf10-67d51c4f5619",
   "metadata": {},
   "outputs": [],
   "source": [
    "os.listdir()"
   ]
  },
  {
   "cell_type": "code",
   "execution_count": null,
   "id": "364609f0-976a-4850-91b6-ea71f93801d1",
   "metadata": {},
   "outputs": [],
   "source": [
    "#os.sysconf_names # prints out a lot"
   ]
  },
  {
   "cell_type": "markdown",
   "id": "b48eaa13-f6c0-4691-bbec-af40c5cedc5f",
   "metadata": {},
   "source": [
    "# now play with bottle"
   ]
  },
  {
   "cell_type": "code",
   "execution_count": null,
   "id": "def17349-2d05-4466-8a6e-dc18afbc5773",
   "metadata": {},
   "outputs": [],
   "source": [
    "def index(name='RPi Status'):\n",
    "    dt = get_time()\n",
    "    tc = get_temp()\n",
    "    info = {'name': name, 'dt': dt, 'tc': tc}\n",
    "    return template('test.tpl', info)"
   ]
  },
  {
   "cell_type": "code",
   "execution_count": null,
   "id": "924225d2-3962-4688-b1fe-2c4dacd9a37c",
   "metadata": {},
   "outputs": [],
   "source": [
    "tt = index()\n",
    "tt"
   ]
  },
  {
   "cell_type": "code",
   "execution_count": null,
   "id": "fcc40d7c-77f7-4222-ae8b-ec3e3b654502",
   "metadata": {},
   "outputs": [],
   "source": [
    "import sys\n",
    "sys.path"
   ]
  },
  {
   "cell_type": "code",
   "execution_count": null,
   "id": "d0c8980a-1322-449b-84c4-c60a255b860d",
   "metadata": {},
   "outputs": [],
   "source": [
    "app = Bottle()"
   ]
  },
  {
   "cell_type": "code",
   "execution_count": null,
   "id": "0ce05c01-a44d-4b2c-90e5-d3e426cd081f",
   "metadata": {},
   "outputs": [],
   "source": []
  }
 ],
 "metadata": {
  "kernelspec": {
   "display_name": "Python 3",
   "language": "python",
   "name": "python3"
  },
  "language_info": {
   "codemirror_mode": {
    "name": "ipython",
    "version": 3
   },
   "file_extension": ".py",
   "mimetype": "text/x-python",
   "name": "python",
   "nbconvert_exporter": "python",
   "pygments_lexer": "ipython3",
   "version": "3.7.3"
  }
 },
 "nbformat": 4,
 "nbformat_minor": 5
}
