{
 "cells": [
  {
   "cell_type": "code",
   "execution_count": 2,
   "id": "ffcac8ce-0885-4e4e-ba02-1cce7c751d04",
   "metadata": {},
   "outputs": [],
   "source": [
    "import os\n",
    "import vcgencmd as vc\n",
    "import RPi.GPIO as gpio\n",
    "from bottle   import route, run, template\n",
    "from datetime import datetime"
   ]
  },
  {
   "cell_type": "code",
   "execution_count": 3,
   "id": "60cb6140-a3e3-48b8-9fec-9bfa6cb4fd6c",
   "metadata": {},
   "outputs": [],
   "source": [
    "# see https://pypi.org/project/vcgencmd/ for usage"
   ]
  },
  {
   "cell_type": "code",
   "execution_count": 4,
   "id": "09071835-3666-44da-8423-79f6e375313d",
   "metadata": {},
   "outputs": [],
   "source": [
    "vccmd = vc.Vcgencmd()"
   ]
  },
  {
   "cell_type": "code",
   "execution_count": 5,
   "id": "59845be1-444a-47d7-9366-5eb0cd6a7806",
   "metadata": {},
   "outputs": [
    {
     "data": {
      "text/plain": [
       "'Dec  1 2021 15:02:46 \\nCopyright (c) 2012 Broadcom\\nversion 71bd3109023a0c8575585ba87cbb374d2eeb038f (clean) (release) (start_x)\\n'"
      ]
     },
     "execution_count": 5,
     "metadata": {},
     "output_type": "execute_result"
    }
   ],
   "source": [
    "vccmd.version()"
   ]
  },
  {
   "cell_type": "code",
   "execution_count": 6,
   "id": "64d1bc5c-5fb5-45d3-9317-57c5fb59eb00",
   "metadata": {},
   "outputs": [],
   "source": [
    "def get_temp():\n",
    "    temp_C = vccmd.measure_temp()\n",
    "    temp_F = temp_C * 9./5. +32.0\n",
    "    return \"{:0.2f} deg C, {:0.2f} deg F\".format(temp_C, temp_F)\n",
    "def get_time():\n",
    "    return \"{:%Y-%m-%d %H:%M:%S}\".format(datetime.now())\n",
    "def get_load_average():\n",
    "    one, five, fifteen = os.getloadavg()\n",
    "    return \"Process Averages: {} (1m), {} (5m), {} (15m)\".\\\n",
    "            format(one, five, fifteen)\n",
    "def get_uptime():\n",
    "    dd = os.popen('/usr/bin/uptime -p')\n",
    "    return \"Uptime: {}\".format(dd.read()[3:-1])\n",
    "def get_freq(obj='arm'):\n",
    "    # obj = arm, core\n",
    "    return \"{} freq: {} GHz\".\\\n",
    "        format(obj, vccmd.measure_clock(obj)/1.e9)\n",
    "def get_processes(num=5):\n",
    "    # see unix.stackexchange.com #13968 : sorting on cpu%\n",
    "    # top result is the header, so get n + 1\n",
    "    cmd = '/bin/ps aux --sort=-pcpu | head -n {}'.format(num + 1)\n",
    "    dd  = os.popen(cmd)\n",
    "    txt = dd.read()\n",
    "    out = [k.split() for k in txt.split('\\n')]\n",
    "    fields = [0, 1, 2, 3, 8, 9, 10] # limit the output fields\n",
    "    txt = ''\n",
    "    for k in fields:\n",
    "        txt += out[0][k] + '\\t'\n",
    "    for j in range(1, len(out) - 1):\n",
    "        txt += '\\n'\n",
    "        for k in fields: # split affects only the last field\n",
    "            txt += out[j][k].split('/')[-1] + '\\t'\n",
    "    return txt"
   ]
  },
  {
   "cell_type": "code",
   "execution_count": 7,
   "id": "5fb11872-6ed5-4b71-9e16-b7614098c971",
   "metadata": {},
   "outputs": [
    {
     "name": "stdout",
     "output_type": "stream",
     "text": [
      "41.80 deg C, 107.24 deg F 2021-12-22 17:40:52\n"
     ]
    }
   ],
   "source": [
    "print(get_temp(), get_time())"
   ]
  },
  {
   "cell_type": "code",
   "execution_count": 8,
   "id": "a1095ba4-8337-443b-a405-aef16f1865c0",
   "metadata": {},
   "outputs": [
    {
     "name": "stdout",
     "output_type": "stream",
     "text": [
      "Process Averages: 0.87 (1m), 0.58 (5m), 0.63 (15m)\n"
     ]
    }
   ],
   "source": [
    "print(get_load_average())"
   ]
  },
  {
   "cell_type": "code",
   "execution_count": 9,
   "id": "ca7d1eb4-6568-45f6-a276-debdf96d8554",
   "metadata": {},
   "outputs": [
    {
     "name": "stdout",
     "output_type": "stream",
     "text": [
      "Uptime: 1 day, 44 minutes\n"
     ]
    }
   ],
   "source": [
    "print(get_uptime())"
   ]
  },
  {
   "cell_type": "code",
   "execution_count": 10,
   "id": "c962a017-4cfa-4388-a183-1ffdb3daa96b",
   "metadata": {},
   "outputs": [
    {
     "name": "stdout",
     "output_type": "stream",
     "text": [
      "arm freq: 1.500398464 GHz core freq: 0.500000992 GHz\n"
     ]
    }
   ],
   "source": [
    "print(get_freq('arm'), get_freq('core'))"
   ]
  },
  {
   "cell_type": "code",
   "execution_count": 27,
   "id": "097704bb-b200-46f9-bae9-ea9c9a2811aa",
   "metadata": {},
   "outputs": [
    {
     "name": "stdout",
     "output_type": "stream",
     "text": [
      "USER\tPID\t%CPU\t%MEM\tSTART\tTIME\tCOMMAND\t\n",
      "pi\t27990\t23.2\t2.6\t13:31\t58:07\tchromium-browser-v7\t\n",
      "pi\t18066\t5.4\t4.1\t12:50\t15:55\tfirefox-esr\t\n",
      "pi\t27952\t4.7\t2.3\t13:31\t11:48\tchromium-browser-v7\t\n",
      "pi\t23048\t4.0\t0.0\tDec21\t56:26\thtop\t\n",
      "pi\t16687\t2.9\t0.2\t12:44\t8:36\tlxtask\t\n",
      "pi\t27888\t2.7\t2.0\t13:31\t6:48\tchromium-browser-v7\t\n",
      "root\t681\t1.9\t1.2\tDec21\t28:18\tXorg\t\n",
      "pi\t11669\t0.8\t4.4\tDec21\t12:45\tfirefox-esr\t\n",
      "pi\t27804\t0.8\t0.7\t13:31\t2:02\tpython3\t\n",
      "pi\t2547\t0.5\t0.4\tDec21\t8:01\tlxterminal\t\n"
     ]
    }
   ],
   "source": [
    "print(get_processes(10))"
   ]
  },
  {
   "cell_type": "code",
   "execution_count": 12,
   "id": "343790ef-5391-41a6-9de9-a781835382f9",
   "metadata": {},
   "outputs": [
    {
     "data": {
      "text/plain": [
       "\u001b[0;31mSignature:\u001b[0m \u001b[0mvccmd\u001b[0m\u001b[0;34m.\u001b[0m\u001b[0mget_sources\u001b[0m\u001b[0;34m(\u001b[0m\u001b[0mtyp\u001b[0m\u001b[0;34m)\u001b[0m\u001b[0;34m\u001b[0m\u001b[0;34m\u001b[0m\u001b[0m\n",
       "\u001b[0;31mDocstring:\u001b[0m <no docstring>\n",
       "\u001b[0;31mFile:\u001b[0m      /usr/local/lib/python3.7/dist-packages/vcgencmd/vcgencmd.py\n",
       "\u001b[0;31mType:\u001b[0m      method\n"
      ]
     },
     "metadata": {},
     "output_type": "display_data"
    }
   ],
   "source": [
    "vccmd.get_sources?"
   ]
  },
  {
   "cell_type": "code",
   "execution_count": 13,
   "id": "e3fb47ba-07f2-429f-bfb3-fbcba7b93fb0",
   "metadata": {},
   "outputs": [],
   "source": [
    "#get_sources(\"mem\") will return [\"arm\", \"gpu\"] which are the sources/arguments for \n",
    "#get_mem(source) that returns the memory of the source passed as argument to it.\n",
    "# the below dict from /usr/local/lib/python3.7/dist-packages/vcgencmd/vcgencmd.py\n",
    "sources = {\n",
    "  \"clock\": [\"arm\", \"core\",\"isp\", \"v3d\", \"uart\", \"pwm\", \"emmc\", \"pixel\", \n",
    "            \"vec\", \"hdmi\", \"dpi\"], # deleted H264: gives error\n",
    "  \"volts\": [\"core\", \"sdram_c\", \"sdram_i\", \"sdram_p\"],\n",
    "  \"mem\":   [\"arm\", \"gpu\"],\n",
    "  \"codec\": [\"agif\", \"flac\", \"h263\", \"h264\", \"mjpa\", \"mjpb\", \"mjpg\", \"mpg2\", \n",
    "            \"mpg4\", \"mvc0\", \"pcm\", \"thra\", \"vorb\", \"vp6\", \"vp8\", \"wmv9\", \"wvc1\"],\n",
    "  \"display_id\": [0, 1, 2, 3, 7]\n",
    "  }"
   ]
  },
  {
   "cell_type": "code",
   "execution_count": 14,
   "id": "9141a0f6-ecd4-479a-b689-5b65d6b31a40",
   "metadata": {},
   "outputs": [
    {
     "name": "stdout",
     "output_type": "stream",
     "text": [
      "arm 896\n",
      "gpu 128\n"
     ]
    }
   ],
   "source": [
    "dd = vccmd.get_sources('mem')\n",
    "for k in dd:\n",
    "    print(k, vccmd.get_mem(k))"
   ]
  },
  {
   "cell_type": "code",
   "execution_count": 15,
   "id": "56206409-7d19-4e89-8a26-b53b54bf1cdb",
   "metadata": {},
   "outputs": [
    {
     "name": "stdout",
     "output_type": "stream",
     "text": [
      "arm 1500345728\n",
      "core 500000992\n",
      "isp 0\n",
      "v3d 500000992\n",
      "uart 48001464\n",
      "pwm 107143064\n",
      "emmc 250000496\n",
      "pixel 81000000\n",
      "vec 0\n",
      "hdmi 0\n",
      "dpi 0\n"
     ]
    }
   ],
   "source": [
    "dd = vccmd.get_sources('clock')\n",
    "for k in dd:\n",
    "    # H264 produces an error\n",
    "    if (k != 'H264'): print(k, vccmd.measure_clock(k))"
   ]
  },
  {
   "cell_type": "code",
   "execution_count": 16,
   "id": "aba1ee50-d7b0-4a55-8592-3fade124c7dd",
   "metadata": {},
   "outputs": [
    {
     "name": "stdout",
     "output_type": "stream",
     "text": [
      "core 0.86\n",
      "sdram_c 1.1\n",
      "sdram_i 1.1\n",
      "sdram_p 1.1\n"
     ]
    }
   ],
   "source": [
    "dd = vccmd.get_sources('volts')\n",
    "for k in dd:\n",
    "    print(k, vccmd.measure_volts(k))"
   ]
  },
  {
   "cell_type": "code",
   "execution_count": 17,
   "id": "d9889ab9-ce4e-4473-80ad-0f9117541ef3",
   "metadata": {},
   "outputs": [
    {
     "name": "stdout",
     "output_type": "stream",
     "text": [
      "agif False\n",
      "flac False\n",
      "h263 False\n",
      "h264 False\n",
      "mjpa False\n",
      "mjpb False\n",
      "mjpg False\n",
      "mpg2 False\n",
      "mpg4 False\n",
      "mvc0 False\n",
      "pcm False\n",
      "thra False\n",
      "vorb False\n",
      "vp6 False\n",
      "vp8 False\n",
      "wmv9 False\n",
      "wvc1 False\n"
     ]
    }
   ],
   "source": [
    "dd = vccmd.get_sources('codec')\n",
    "for k in dd:\n",
    "    print(k, vccmd.codec_enabled(k))"
   ]
  },
  {
   "cell_type": "code",
   "execution_count": 18,
   "id": "5acf3922-dbae-400e-9d26-521027876b02",
   "metadata": {},
   "outputs": [
    {
     "name": "stdout",
     "output_type": "stream",
     "text": [
      "0 off\n",
      "1 off\n",
      "2 on\n",
      "3 off\n",
      "7 on\n"
     ]
    }
   ],
   "source": [
    "dd = vccmd.get_sources('display_id')\n",
    "for k in dd:\n",
    "    print(k, vccmd.display_power_state(k))"
   ]
  },
  {
   "cell_type": "code",
   "execution_count": 19,
   "id": "ebca5d57-82ec-41e4-b08c-65f0e8e39d7d",
   "metadata": {},
   "outputs": [
    {
     "data": {
      "text/plain": [
       "{'height': '1920', 'width': '1080', 'depth': '24\\n'}"
      ]
     },
     "execution_count": 19,
     "metadata": {},
     "output_type": "execute_result"
    }
   ],
   "source": [
    "vccmd.get_lcd_info()"
   ]
  },
  {
   "cell_type": "code",
   "execution_count": 20,
   "id": "6d9cd8f2-384e-4ab7-8f4f-7f2f3c9aaddd",
   "metadata": {},
   "outputs": [
    {
     "data": {
      "text/plain": [
       "{'display': '7',\n",
       " 'format': 'ARGB8888',\n",
       " 'transform': '0',\n",
       " 'layer': '1',\n",
       " 'resolution': '64x64',\n",
       " 'src': '0,0,64,64',\n",
       " 'dst': '439,421,64,64',\n",
       " 'cost': '125',\n",
       " 'lbm': '0'}"
      ]
     },
     "execution_count": 20,
     "metadata": {},
     "output_type": "execute_result"
    }
   ],
   "source": [
    "vccmd.dispmanx_list()"
   ]
  },
  {
   "cell_type": "code",
   "execution_count": 28,
   "id": "24a31200-7580-4dd9-9260-3205fac5568e",
   "metadata": {},
   "outputs": [],
   "source": [
    "#vccmd.otp_dump()"
   ]
  },
  {
   "cell_type": "code",
   "execution_count": 22,
   "id": "799f8c93-512c-49c9-ac2c-bc402a99b5de",
   "metadata": {},
   "outputs": [
    {
     "data": {
      "text/plain": [
       "\"temp=45.2'C\\n\""
      ]
     },
     "execution_count": 22,
     "metadata": {},
     "output_type": "execute_result"
    }
   ],
   "source": [
    "#dev = os.popen('bin/ps -a', 'r', 1)\n",
    "dev = os.popen('/opt/vc/bin/vcgencmd measure_temp')  # this works\n",
    "dev.read()\n",
    "#dev.close()"
   ]
  },
  {
   "cell_type": "code",
   "execution_count": 23,
   "id": "5b21e942-3cd6-4afe-b0fa-160e555b14f4",
   "metadata": {},
   "outputs": [
    {
     "data": {
      "text/plain": [
       "'pi'"
      ]
     },
     "execution_count": 23,
     "metadata": {},
     "output_type": "execute_result"
    }
   ],
   "source": [
    "os.getlogin()"
   ]
  },
  {
   "cell_type": "code",
   "execution_count": 24,
   "id": "a39f2cd3-6d3b-4a66-bf10-67d51c4f5619",
   "metadata": {},
   "outputs": [
    {
     "data": {
      "text/plain": [
       "['basic_testing.ipynb',\n",
       " 'README.md',\n",
       " '.git',\n",
       " 'LICENSE',\n",
       " '.gitignore',\n",
       " '.ipynb_checkpoints']"
      ]
     },
     "execution_count": 24,
     "metadata": {},
     "output_type": "execute_result"
    }
   ],
   "source": [
    "os.listdir()"
   ]
  },
  {
   "cell_type": "code",
   "execution_count": null,
   "id": "364609f0-976a-4850-91b6-ea71f93801d1",
   "metadata": {},
   "outputs": [],
   "source": [
    "#os.sysconf_names # prints out a lot"
   ]
  },
  {
   "cell_type": "markdown",
   "id": "b48eaa13-f6c0-4691-bbec-af40c5cedc5f",
   "metadata": {},
   "source": [
    "# now play with bottle"
   ]
  },
  {
   "cell_type": "code",
   "execution_count": 30,
   "id": "def17349-2d05-4466-8a6e-dc18afbc5773",
   "metadata": {},
   "outputs": [],
   "source": [
    "def index(name='RPi Status'):\n",
    "    dt = get_time()\n",
    "    tc = get_temp()\n",
    "    return template('<b>TIME: {{t}},  CPU TEMP:  {{tc}}</b>',\n",
    "                    t=dt, tc=tc)"
   ]
  },
  {
   "cell_type": "code",
   "execution_count": 31,
   "id": "924225d2-3962-4688-b1fe-2c4dacd9a37c",
   "metadata": {},
   "outputs": [],
   "source": [
    "tt = index()"
   ]
  },
  {
   "cell_type": "code",
   "execution_count": 32,
   "id": "ea3a4983-d8bf-4362-bc54-acfc6758547f",
   "metadata": {},
   "outputs": [
    {
     "data": {
      "text/plain": [
       "'<b>TIME: 2021-12-22 17:50:43,  CPU TEMP:  40.90 deg C, 105.62 deg F</b>'"
      ]
     },
     "execution_count": 32,
     "metadata": {},
     "output_type": "execute_result"
    }
   ],
   "source": [
    "tt"
   ]
  },
  {
   "cell_type": "code",
   "execution_count": null,
   "id": "fcc40d7c-77f7-4222-ae8b-ec3e3b654502",
   "metadata": {},
   "outputs": [],
   "source": []
  }
 ],
 "metadata": {
  "kernelspec": {
   "display_name": "Python 3",
   "language": "python",
   "name": "python3"
  },
  "language_info": {
   "codemirror_mode": {
    "name": "ipython",
    "version": 3
   },
   "file_extension": ".py",
   "mimetype": "text/x-python",
   "name": "python",
   "nbconvert_exporter": "python",
   "pygments_lexer": "ipython3",
   "version": "3.7.3"
  }
 },
 "nbformat": 4,
 "nbformat_minor": 5
}
